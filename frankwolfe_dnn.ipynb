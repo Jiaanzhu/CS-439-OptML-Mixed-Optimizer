{
 "cells": [
  {
   "cell_type": "code",
   "execution_count": 2,
   "id": "3ec10b89",
   "metadata": {},
   "outputs": [],
   "source": [
    "import matplotlib.pyplot as plt\n",
    "\n",
    "import torch\n",
    "from torch import nn, optim\n",
    "from torch.nn import functional as F\n",
    "from pytorch_model_summary import summary"
   ]
  },
  {
   "cell_type": "code",
   "execution_count": 3,
   "id": "93009109",
   "metadata": {},
   "outputs": [],
   "source": [
    "import torchvision\n",
    "import torchvision.datasets as datasets\n",
    "\n",
    "mnist_trainset = datasets.MNIST(root='./data', train=True, download=True, transform=None)\n",
    "mnist_testset = datasets.MNIST(root='./data', train=False, download=True, transform=None)"
   ]
  },
  {
   "cell_type": "code",
   "execution_count": 4,
   "id": "5d99ed40",
   "metadata": {},
   "outputs": [],
   "source": [
    "mnist_train = mnist_trainset.data\n",
    "mnist_test = mnist_testset.data\n",
    "\n",
    "mnist_trainlabel = mnist_trainset.targets\n",
    "mnist_testlabel = mnist_testset.targets"
   ]
  },
  {
   "cell_type": "code",
   "execution_count": 5,
   "id": "4fc73558",
   "metadata": {},
   "outputs": [
    {
     "name": "stdout",
     "output_type": "stream",
     "text": [
      "torch.Size([60000, 28, 28])\n",
      "torch.Size([10000, 28, 28])\n",
      "torch.Size([60000])\n",
      "torch.Size([10000])\n"
     ]
    }
   ],
   "source": [
    "print(mnist_train.shape)\n",
    "print(mnist_test.shape)\n",
    "print(mnist_trainlabel.shape)\n",
    "print(mnist_testlabel.shape)"
   ]
  },
  {
   "cell_type": "code",
   "execution_count": 6,
   "id": "61a439a7",
   "metadata": {},
   "outputs": [],
   "source": [
    "from dfw import DFW\n",
    "from dfw.losses import MultiClassHingeLoss"
   ]
  },
  {
   "cell_type": "code",
   "execution_count": 50,
   "id": "49032b38",
   "metadata": {},
   "outputs": [
    {
     "name": "stdout",
     "output_type": "stream",
     "text": [
      "-----------------------------------------------------------------------\n",
      "      Layer (type)         Input Shape         Param #     Tr. Param #\n",
      "=======================================================================\n",
      "          Linear-1            [1, 784]          78,500          78,500\n",
      "          Linear-2            [1, 100]           5,050           5,050\n",
      "          Linear-3             [1, 50]             510             510\n",
      "=======================================================================\n",
      "Total params: 84,060\n",
      "Trainable params: 84,060\n",
      "Non-trainable params: 0\n",
      "-----------------------------------------------------------------------\n"
     ]
    }
   ],
   "source": [
    "class MLP(nn.Module):\n",
    "    def __init__(self):\n",
    "        super().__init__()\n",
    "        \n",
    "        self.fc1 = nn.Linear(784, 100)\n",
    "        self.fc2 = nn.Linear(100, 50) \n",
    "        self.fc3 = nn.Linear(50, 10) \n",
    "\n",
    "\n",
    "    def forward(self, x):\n",
    "        x = x.view(-1,784) # flatten\n",
    "        x = F.relu(self.fc1(x))\n",
    "        x = F.relu(self.fc2(x))\n",
    "        x = self.fc3(x)\n",
    "        \n",
    "        return x\n",
    "print(summary(MLP(), torch.zeros((1, 1, 28, 28)), show_input=True))"
   ]
  },
  {
   "cell_type": "code",
   "execution_count": 66,
   "id": "ad2bce83",
   "metadata": {},
   "outputs": [],
   "source": [
    "def train(model, train_input, train_target, test_input, test_target,\n",
    "                mini_batch_size, nb_epochs = 100,eta = 1e-3, verbose=1):\n",
    "\n",
    "#    criterion = nn.L1Loss()\n",
    "#    optimizer = optim.SGD(model.parameters(), lr=eta, weight_decay=1e-4) # l2-reg with weight decay\n",
    "\n",
    "    \n",
    "    svm = MultiClassHingeLoss()\n",
    "    optimizer = DFW(model.parameters(), eta=eta)\n",
    "    \n",
    "    for e in range(nb_epochs):\n",
    "        total_loss = 0\n",
    "\n",
    "        for b in range(0, train_input.size(0), mini_batch_size):\n",
    "            output = model(train_input.narrow(0, b , mini_batch_size))\n",
    "            loss = svm(output, train_target.narrow(0, b, mini_batch_size))\n",
    "            total_loss = total_loss + loss.item()\n",
    "\n",
    "            optimizer.zero_grad()\n",
    "            loss.backward()\n",
    "            optimizer.step(lambda: float(loss))\n",
    "        \n",
    "        if e%10==0:\n",
    "            output_train = model(train_input.float())\n",
    "            output_val = model(test_input.float())\n",
    "            accuracy_train = accuracy(output_train, train_target)\n",
    "            accuracy_val = accuracy(output_val, test_target)\n",
    "            if not verbose : \n",
    "                print(e, total_loss)\n",
    "            else:\n",
    "                print('epoch {}: acc -> {} | acc_val -> {}'.format(e, accuracy_train,accuracy_val))"
   ]
  },
  {
   "cell_type": "code",
   "execution_count": 68,
   "id": "2283e551",
   "metadata": {},
   "outputs": [
    {
     "name": "stdout",
     "output_type": "stream",
     "text": [
      "epoch 0: acc -> 0.9238166809082031 | acc_val -> 0.9203000068664551\n",
      "epoch 10: acc -> 0.9802500009536743 | acc_val -> 0.9585999846458435\n",
      "epoch 20: acc -> 0.9905833601951599 | acc_val -> 0.9639000296592712\n",
      "epoch 30: acc -> 0.9953500032424927 | acc_val -> 0.9621000289916992\n",
      "epoch 40: acc -> 0.9968166947364807 | acc_val -> 0.9621000289916992\n",
      "epoch 50: acc -> 0.998283326625824 | acc_val -> 0.9621000289916992\n",
      "epoch 60: acc -> 0.9993000030517578 | acc_val -> 0.9610999822616577\n",
      "epoch 70: acc -> 0.9996500015258789 | acc_val -> 0.9617000222206116\n",
      "epoch 80: acc -> 0.9998166561126709 | acc_val -> 0.9617000222206116\n",
      "epoch 90: acc -> 0.9999499917030334 | acc_val -> 0.9620000123977661\n"
     ]
    }
   ],
   "source": [
    "mlp = MLP()\n",
    "train(mlp, mnist_train.float(), mnist_trainlabel,\n",
    "            mnist_test.float(), mnist_testlabel,\n",
    "            50,nb_epochs = 100,eta=1e-3,verbose=True)"
   ]
  },
  {
   "cell_type": "code",
   "execution_count": 64,
   "id": "cfe149f6",
   "metadata": {},
   "outputs": [],
   "source": [
    "def accuracy(y_pred,y_ground):\n",
    "    return (torch.sum(torch.argmax(y_pred,axis=1) == y_ground) / y_ground.size(0)).item()"
   ]
  },
  {
   "cell_type": "code",
   "execution_count": null,
   "id": "7aefb0c1",
   "metadata": {},
   "outputs": [],
   "source": [
    "def one_hot_embedding(labels, num_classes):\n",
    "    \"\"\"Embedding labels to one-hot form.\n",
    "\n",
    "    Args:\n",
    "      labels: (LongTensor) class labels, sized [N,].\n",
    "      num_classes: (int) number of classes.\n",
    "\n",
    "    Returns:\n",
    "      (tensor) encoded labels, sized [N, #classes].\n",
    "    \"\"\"\n",
    "    y = torch.eye(num_classes) \n",
    "    return y[labels] \n",
    "\n",
    "# onehot_train = one_hot_embedding(mnist_trainlabel,10)\n",
    "# onehot_test = one_hot_embedding(mnist_testlabel,10)"
   ]
  }
 ],
 "metadata": {
  "kernelspec": {
   "display_name": "Python 3",
   "language": "python",
   "name": "python3"
  },
  "language_info": {
   "codemirror_mode": {
    "name": "ipython",
    "version": 3
   },
   "file_extension": ".py",
   "mimetype": "text/x-python",
   "name": "python",
   "nbconvert_exporter": "python",
   "pygments_lexer": "ipython3",
   "version": "3.8.5"
  }
 },
 "nbformat": 4,
 "nbformat_minor": 5
}
