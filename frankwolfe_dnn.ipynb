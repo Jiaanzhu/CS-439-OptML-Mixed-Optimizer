{
 "cells": [
  {
   "cell_type": "code",
   "execution_count": 19,
   "id": "3ec10b89",
   "metadata": {},
   "outputs": [],
   "source": [
    "import numpy as np\n",
    "import matplotlib.pyplot as plt\n",
    "\n",
    "import torch\n",
    "from torch import nn, optim\n",
    "from torch.nn import functional as F\n",
    "from pytorch_model_summary import summary"
   ]
  },
  {
   "cell_type": "code",
   "execution_count": 1,
   "id": "93009109",
   "metadata": {},
   "outputs": [],
   "source": [
    "import torchvision\n",
    "import torchvision.datasets as datasets"
   ]
  },
  {
   "cell_type": "markdown",
   "id": "3a525f7a",
   "metadata": {},
   "source": [
    "#### Goal: Composite optimizers -> Frank Wolfe / SGD / ADAM "
   ]
  },
  {
   "cell_type": "markdown",
   "id": "371e206e",
   "metadata": {},
   "source": [
    "### Part 1: DNN Mnist Frank Wolfe grid-search"
   ]
  },
  {
   "cell_type": "code",
   "execution_count": 3,
   "id": "4fd91fdd",
   "metadata": {},
   "outputs": [],
   "source": [
    "mnist_trainset = datasets.MNIST(root='./data', train=True, download=True, transform=None)\n",
    "mnist_testset = datasets.MNIST(root='./data', train=False, download=True, transform=None)"
   ]
  },
  {
   "cell_type": "code",
   "execution_count": 4,
   "id": "5d99ed40",
   "metadata": {},
   "outputs": [],
   "source": [
    "mnist_train = mnist_trainset.data\n",
    "mnist_test = mnist_testset.data\n",
    "\n",
    "mnist_trainlabel = mnist_trainset.targets\n",
    "mnist_testlabel = mnist_testset.targets"
   ]
  },
  {
   "cell_type": "code",
   "execution_count": 5,
   "id": "4fc73558",
   "metadata": {},
   "outputs": [
    {
     "name": "stdout",
     "output_type": "stream",
     "text": [
      "torch.Size([60000, 28, 28])\n",
      "torch.Size([10000, 28, 28])\n",
      "torch.Size([60000])\n",
      "torch.Size([10000])\n"
     ]
    }
   ],
   "source": [
    "print(mnist_train.shape)\n",
    "print(mnist_test.shape)\n",
    "print(mnist_trainlabel.shape)\n",
    "print(mnist_testlabel.shape)"
   ]
  },
  {
   "cell_type": "code",
   "execution_count": 21,
   "id": "61a439a7",
   "metadata": {},
   "outputs": [],
   "source": [
    "from dfw import DFW\n",
    "from dfw.losses import MultiClassHingeLoss"
   ]
  },
  {
   "cell_type": "code",
   "execution_count": 6,
   "id": "49032b38",
   "metadata": {},
   "outputs": [
    {
     "name": "stdout",
     "output_type": "stream",
     "text": [
      "-----------------------------------------------------------------------\n",
      "      Layer (type)         Input Shape         Param #     Tr. Param #\n",
      "=======================================================================\n",
      "          Linear-1            [1, 784]         100,480         100,480\n",
      "          Linear-2            [1, 128]           8,256           8,256\n",
      "          Linear-3             [1, 64]             650             650\n",
      "=======================================================================\n",
      "Total params: 109,386\n",
      "Trainable params: 109,386\n",
      "Non-trainable params: 0\n",
      "-----------------------------------------------------------------------\n"
     ]
    }
   ],
   "source": [
    "class MLP(nn.Module):\n",
    "    def __init__(self):\n",
    "        super().__init__()\n",
    "        \n",
    "        self.fc1 = nn.Linear(784, 128)\n",
    "        self.fc2 = nn.Linear(128, 64) \n",
    "        self.fc3 = nn.Linear(64, 10) \n",
    "\n",
    "\n",
    "    def forward(self, x):\n",
    "        x = x.view(-1,784) # flatten\n",
    "        x = F.relu(self.fc1(x))\n",
    "        x = F.relu(self.fc2(x))\n",
    "        x = self.fc3(x)\n",
    "        \n",
    "        return x\n",
    "print(summary(MLP(), torch.zeros((1, 1, 28, 28)), show_input=True))"
   ]
  },
  {
   "cell_type": "code",
   "execution_count": 7,
   "id": "e6d03cf8",
   "metadata": {},
   "outputs": [],
   "source": [
    "def accuracy(y_pred,y_ground):\n",
    "    return (torch.sum(torch.argmax(y_pred,axis=1) == y_ground) / y_ground.size(0)).item()"
   ]
  },
  {
   "cell_type": "code",
   "execution_count": 8,
   "id": "ad2bce83",
   "metadata": {},
   "outputs": [],
   "source": [
    "def train(model, train_input, train_target, test_input, test_target,\n",
    "                mini_batch_size=50, nb_epochs = 100,eta = 1e-3, verbose=1):\n",
    "    \n",
    "    svm = MultiClassHingeLoss()\n",
    "    optimizer = DFW(model.parameters(), eta=eta)\n",
    "    \n",
    "    history = {}\n",
    "    history['loss'] = []\n",
    "    history['loss_val'] = []\n",
    "    history['acc'] = []\n",
    "    history['acc_val'] = []\n",
    "    \n",
    "    for e in range(nb_epochs):\n",
    "        total_loss = 0\n",
    "\n",
    "        for b in range(0, train_input.size(0), mini_batch_size):\n",
    "            try: \n",
    "                output = model(train_input.narrow(0, b , mini_batch_size))\n",
    "            except:\n",
    "                continue\n",
    "            loss = svm(output, train_target.narrow(0, b, mini_batch_size))\n",
    "            total_loss = total_loss + loss.item()\n",
    "\n",
    "            optimizer.zero_grad()\n",
    "            loss.backward()\n",
    "            optimizer.step(lambda: float(loss))\n",
    "        \n",
    "        if e%10==0:\n",
    "            # yea probably need to check if there is smarter way to evaluate \n",
    "            output_train = model(train_input.float())\n",
    "            output_val = model(test_input.float())\n",
    "            \n",
    "            accuracy_train = accuracy(output_train, train_target)\n",
    "            accuracy_val = accuracy(output_val, test_target)\n",
    "            loss_train = svm(output_train, train_target)\n",
    "            loss_val = svm(output_val, test_target)\n",
    "            \n",
    "            history['loss'].append(loss_train)\n",
    "            history['loss_val'].append(loss_val)\n",
    "            history['acc'].append(accuracy_train)\n",
    "            history['acc_val'].append(accuracy_val)\n",
    "            \n",
    "            if verbose : \n",
    "#                print(e, total_loss)\n",
    "                print('epoch {}: acc -> {} | acc_val -> {}'.format(e, accuracy_train,accuracy_val))\n",
    "        \n",
    "    return history    "
   ]
  },
  {
   "cell_type": "code",
   "execution_count": 68,
   "id": "2283e551",
   "metadata": {},
   "outputs": [
    {
     "name": "stdout",
     "output_type": "stream",
     "text": [
      "epoch 0: acc -> 0.9238166809082031 | acc_val -> 0.9203000068664551\n",
      "epoch 10: acc -> 0.9802500009536743 | acc_val -> 0.9585999846458435\n",
      "epoch 20: acc -> 0.9905833601951599 | acc_val -> 0.9639000296592712\n",
      "epoch 30: acc -> 0.9953500032424927 | acc_val -> 0.9621000289916992\n",
      "epoch 40: acc -> 0.9968166947364807 | acc_val -> 0.9621000289916992\n",
      "epoch 50: acc -> 0.998283326625824 | acc_val -> 0.9621000289916992\n",
      "epoch 60: acc -> 0.9993000030517578 | acc_val -> 0.9610999822616577\n",
      "epoch 70: acc -> 0.9996500015258789 | acc_val -> 0.9617000222206116\n",
      "epoch 80: acc -> 0.9998166561126709 | acc_val -> 0.9617000222206116\n",
      "epoch 90: acc -> 0.9999499917030334 | acc_val -> 0.9620000123977661\n"
     ]
    }
   ],
   "source": [
    "torch.manual_seed(123456789) # seeding for weight initialization and train\n",
    "\n",
    "# device = torch.device(\"cuda:0\" if torch.cuda.is_available() else \"cpu\")\n",
    "device = torch.device(\"cpu\")\n",
    "\n",
    "histories = []\n",
    "\n",
    "bss = [50,64,128]\n",
    "lrs = [1e-2,1e-3, 5e-3, 1e-4]\n",
    "\n",
    "mesh = np.meshgrid(bss,lrs)\n",
    "\n",
    "for bs,lr in zip(mesh[0].ravel(),mesh[1].ravel()):\n",
    "    print('batch-size: {} | learning-rate: {}'.format(bs,lr))\n",
    "    # reset weights\n",
    "    mlp = MLP().to(device)\n",
    "\n",
    "    history = train(mlp, mnist_train.float(), mnist_trainlabel,\n",
    "                mnist_test.float(), mnist_testlabel,\n",
    "                mini_batch_size=bs,nb_epochs = 100,eta=lr,verbose=False)\n",
    "    \n",
    "    histories.append(history)"
   ]
  },
  {
   "cell_type": "markdown",
   "id": "b5952d83",
   "metadata": {},
   "source": [
    "### Part 2: CNN Mnist Frank Wolfe grid-search\n",
    "On Cifar 10"
   ]
  },
  {
   "cell_type": "code",
   "execution_count": 12,
   "id": "1f61799d",
   "metadata": {},
   "outputs": [
    {
     "name": "stdout",
     "output_type": "stream",
     "text": [
      "Using downloaded and verified file: ./data/cifar-10-python.tar.gz\n",
      "Extracting ./data/cifar-10-python.tar.gz to ./data\n",
      "Files already downloaded and verified\n"
     ]
    }
   ],
   "source": [
    "trainset = torchvision.datasets.CIFAR10(root='./data', train=True,\n",
    "                                        download=True)\n",
    "\n",
    "testset = torchvision.datasets.CIFAR10(root='./data', train=False,\n",
    "                                       download=True)"
   ]
  },
  {
   "cell_type": "code",
   "execution_count": 40,
   "id": "3b992b37",
   "metadata": {},
   "outputs": [
    {
     "name": "stdout",
     "output_type": "stream",
     "text": [
      "-----------------------------------------------------------------------\n",
      "      Layer (type)         Input Shape         Param #     Tr. Param #\n",
      "=======================================================================\n",
      "          Conv2d-1      [1, 3, 32, 32]             456             456\n",
      "       MaxPool2d-2      [1, 6, 28, 28]               0               0\n",
      "          Conv2d-3      [1, 6, 14, 14]           2,416           2,416\n",
      "          Linear-4            [1, 400]          48,120          48,120\n",
      "          Linear-5            [1, 120]          10,164          10,164\n",
      "          Linear-6             [1, 84]             850             850\n",
      "=======================================================================\n",
      "Total params: 62,006\n",
      "Trainable params: 62,006\n",
      "Non-trainable params: 0\n",
      "-----------------------------------------------------------------------\n"
     ]
    }
   ],
   "source": [
    "class CNN(nn.Module):\n",
    "    def __init__(self):\n",
    "        super().__init__()\n",
    "        self.conv1 = nn.Conv2d(3, 6, 5)\n",
    "        self.pool = nn.MaxPool2d(2, 2)\n",
    "        self.conv2 = nn.Conv2d(6, 16, 5)\n",
    "        self.fc1 = nn.Linear(16 * 5 * 5, 120)\n",
    "        self.fc2 = nn.Linear(120, 84)\n",
    "        self.fc3 = nn.Linear(84, 10)\n",
    "\n",
    "    def forward(self, x):\n",
    "        x = self.pool(F.relu(self.conv1(x)))\n",
    "        x = self.pool(F.relu(self.conv2(x)))\n",
    "        x = x.view(-1, 16 * 5 * 5) \n",
    "        x = F.relu(self.fc1(x))\n",
    "        x = F.relu(self.fc2(x))\n",
    "        x = self.fc3(x)\n",
    "        return x\n",
    "\n",
    "\n",
    "cnn = CNN()\n",
    "print(summary(CNN(), torch.zeros((1, 3, 32, 32)), show_input=True))"
   ]
  },
  {
   "cell_type": "code",
   "execution_count": 77,
   "id": "22ff71d6",
   "metadata": {},
   "outputs": [],
   "source": [
    "def reverse_channel(img):\n",
    "    # (X,X,3) -> (3,X,X)\n",
    "    return np.stack((img[:,:,0],img[:,:,1],img[:,:,2]))"
   ]
  },
  {
   "cell_type": "code",
   "execution_count": 80,
   "id": "9381d0e5",
   "metadata": {},
   "outputs": [],
   "source": [
    "# do not run often\n",
    "cifar10_train = torch.tensor([reverse_channel(img) for img in trainset.data])\n",
    "cifar10_test = torch.tensor([reverse_channel(img) for img in testset.data])"
   ]
  },
  {
   "cell_type": "code",
   "execution_count": 88,
   "id": "f353e339",
   "metadata": {},
   "outputs": [],
   "source": [
    "cifar10_trainlab = torch.tensor(trainset.targets)\n",
    "cifar10_testlab = torch.tensor(testset.targets)"
   ]
  },
  {
   "cell_type": "code",
   "execution_count": null,
   "id": "5e122f28",
   "metadata": {},
   "outputs": [
    {
     "name": "stdout",
     "output_type": "stream",
     "text": [
      "batch-size: 50 | learning-rate: 0.01\n"
     ]
    }
   ],
   "source": [
    "torch.manual_seed(123456789) # seeding for weight initialization and train\n",
    "\n",
    "# device = torch.device(\"cuda:0\" if torch.cuda.is_available() else \"cpu\")\n",
    "device = torch.device(\"cpu\")\n",
    "\n",
    "histories = []\n",
    "\n",
    "bss = [50,64,128]\n",
    "lrs = [1e-2,1e-3, 5e-3, 1e-4]\n",
    "\n",
    "mesh = np.meshgrid(bss,lrs)\n",
    "\n",
    "for bs,lr in zip(mesh[0].ravel(),mesh[1].ravel()):\n",
    "    print('batch-size: {} | learning-rate: {}'.format(bs,lr))\n",
    "    # reset weights\n",
    "    cnn = CNN().to(device)\n",
    "\n",
    "    history = train(cnn, cifar10_train.float(), cifar10_trainlab,\n",
    "                cifar10_test.float(), cifar10_testlab,\n",
    "                mini_batch_size=bs,nb_epochs = 100,eta=lr,verbose=False)\n",
    "    \n",
    "    histories.append(history)"
   ]
  },
  {
   "cell_type": "code",
   "execution_count": null,
   "id": "e4a262a1",
   "metadata": {},
   "outputs": [],
   "source": []
  }
 ],
 "metadata": {
  "kernelspec": {
   "display_name": "Python 3",
   "language": "python",
   "name": "python3"
  },
  "language_info": {
   "codemirror_mode": {
    "name": "ipython",
    "version": 3
   },
   "file_extension": ".py",
   "mimetype": "text/x-python",
   "name": "python",
   "nbconvert_exporter": "python",
   "pygments_lexer": "ipython3",
   "version": "3.8.5"
  }
 },
 "nbformat": 4,
 "nbformat_minor": 5
}
