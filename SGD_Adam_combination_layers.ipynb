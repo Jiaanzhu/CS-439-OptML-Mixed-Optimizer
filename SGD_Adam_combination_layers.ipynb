{
 "cells": [
  {
   "cell_type": "code",
   "execution_count": 1,
   "metadata": {},
   "outputs": [],
   "source": [
    "import numpy as np\n",
    "import matplotlib.pyplot as plt\n",
    "\n",
    "import torch\n",
    "from torch import nn, optim\n",
    "from torch.nn import functional as F\n",
    "from pytorch_model_summary import summary"
   ]
  },
  {
   "cell_type": "code",
   "execution_count": 2,
   "metadata": {},
   "outputs": [],
   "source": [
    "import torchvision\n",
    "import torchvision.datasets as datasets"
   ]
  },
  {
   "cell_type": "code",
   "execution_count": 3,
   "metadata": {},
   "outputs": [],
   "source": [
    "import torchvision.transforms as transforms"
   ]
  },
  {
   "cell_type": "code",
   "execution_count": 4,
   "metadata": {},
   "outputs": [
    {
     "name": "stdout",
     "output_type": "stream",
     "text": [
      "Downloading https://www.cs.toronto.edu/~kriz/cifar-10-python.tar.gz to ./data\\cifar-10-python.tar.gz\n"
     ]
    },
    {
     "data": {
      "application/vnd.jupyter.widget-view+json": {
       "model_id": "6c51aeeb9d24443386f08c290f5361c2",
       "version_major": 2,
       "version_minor": 0
      },
      "text/plain": [
       "HBox(children=(IntProgress(value=1, bar_style='info', max=1), HTML(value='')))"
      ]
     },
     "metadata": {},
     "output_type": "display_data"
    },
    {
     "name": "stdout",
     "output_type": "stream",
     "text": [
      "Extracting ./data\\cifar-10-python.tar.gz to ./data\n",
      "Files already downloaded and verified\n"
     ]
    }
   ],
   "source": [
    "transform = transforms.Compose(\n",
    "    [transforms.ToTensor(),\n",
    "     transforms.Normalize((0.5, 0.5, 0.5), (0.5, 0.5, 0.5))])\n",
    "\n",
    "batch_size = 20\n",
    "\n",
    "trainset = torchvision.datasets.CIFAR10(root='./data', train=True,\n",
    "                                        download=True, transform=transform)\n",
    "trainloader = torch.utils.data.DataLoader(trainset, batch_size=batch_size,\n",
    "                                          shuffle=True, num_workers=2)\n",
    "\n",
    "testset = torchvision.datasets.CIFAR10(root='./data', train=False,\n",
    "                                       download=True, transform=transform)\n",
    "testloader = torch.utils.data.DataLoader(testset, batch_size=batch_size,\n",
    "                                         shuffle=False, num_workers=2)\n",
    "\n",
    "classes = ('plane', 'car', 'bird', 'cat',\n",
    "           'deer', 'dog', 'frog', 'horse', 'ship', 'truck')"
   ]
  },
  {
   "cell_type": "code",
   "execution_count": 5,
   "metadata": {},
   "outputs": [],
   "source": [
    "class CNN(nn.Module):\n",
    "    def __init__(self):\n",
    "        super().__init__()\n",
    "\n",
    "        self.base = nn.Sequential(\n",
    "            nn.Conv2d(3, 32, 5),\n",
    "            nn.MaxPool2d(2, 2),\n",
    "            nn.Conv2d(32, 64, 5),\n",
    "            nn.MaxPool2d(2, 2),\n",
    "            nn.Flatten(),\n",
    "            nn.Linear(64 * 5 * 5, 312),\n",
    "            nn.ReLU(),\n",
    "            nn.Linear(312, 84),\n",
    "            nn.ReLU()\n",
    "        )\n",
    "        self.fc3 = nn.Linear(84, 10)\n",
    "\n",
    "    def forward(self, x):\n",
    "        x = self.base(x)\n",
    "        x = self.fc3(x)\n",
    "        return x"
   ]
  },
  {
   "cell_type": "markdown",
   "metadata": {},
   "source": [
    "#### Baseline on general architecture with one optimizer one whole train."
   ]
  },
  {
   "cell_type": "markdown",
   "metadata": {},
   "source": [
    "##### SGD"
   ]
  },
  {
   "cell_type": "code",
   "execution_count": 6,
   "metadata": {},
   "outputs": [
    {
     "name": "stdout",
     "output_type": "stream",
     "text": [
      "-----------------------------------------------------------------------\n",
      "      Layer (type)         Input Shape         Param #     Tr. Param #\n",
      "=======================================================================\n",
      "          Conv2d-1      [1, 3, 32, 32]           2,432           2,432\n",
      "       MaxPool2d-2     [1, 32, 28, 28]               0               0\n",
      "          Conv2d-3     [1, 32, 14, 14]          51,264          51,264\n",
      "       MaxPool2d-4     [1, 64, 10, 10]               0               0\n",
      "         Flatten-5       [1, 64, 5, 5]               0               0\n",
      "          Linear-6           [1, 1600]         499,512         499,512\n",
      "            ReLU-7            [1, 312]               0               0\n",
      "          Linear-8            [1, 312]          26,292          26,292\n",
      "            ReLU-9             [1, 84]               0               0\n",
      "         Linear-10             [1, 84]             850             850\n",
      "=======================================================================\n",
      "Total params: 580,350\n",
      "Trainable params: 580,350\n",
      "Non-trainable params: 0\n",
      "-----------------------------------------------------------------------\n"
     ]
    }
   ],
   "source": [
    "cnn = CNN()\n",
    "print(summary(CNN(), torch.zeros((1, 3, 32, 32)), show_input=True))\n",
    "\n",
    "criterion = nn.CrossEntropyLoss()\n",
    "optimizer = optim.SGD(cnn.parameters(), lr=0.001, momentum=0.9)"
   ]
  },
  {
   "cell_type": "code",
   "execution_count": 7,
   "metadata": {},
   "outputs": [
    {
     "name": "stdout",
     "output_type": "stream",
     "text": [
      "[1,  1000] loss: 2.110\n",
      "Accuracy of the network on the 10000 test images: 33 %\n",
      "[1,  2000] loss: 1.760\n",
      "Accuracy of the network on the 10000 test images: 41 %\n",
      "[2,  1000] loss: 1.485\n",
      "Accuracy of the network on the 10000 test images: 47 %\n",
      "[2,  2000] loss: 1.394\n",
      "Accuracy of the network on the 10000 test images: 52 %\n",
      "[3,  1000] loss: 1.291\n",
      "Accuracy of the network on the 10000 test images: 54 %\n",
      "[3,  2000] loss: 1.223\n",
      "Accuracy of the network on the 10000 test images: 54 %\n",
      "[4,  1000] loss: 1.115\n",
      "Accuracy of the network on the 10000 test images: 58 %\n",
      "[4,  2000] loss: 1.100\n",
      "Accuracy of the network on the 10000 test images: 60 %\n",
      "[5,  1000] loss: 0.999\n",
      "Accuracy of the network on the 10000 test images: 62 %\n",
      "[5,  2000] loss: 0.986\n",
      "Accuracy of the network on the 10000 test images: 63 %\n",
      "[6,  1000] loss: 0.898\n",
      "Accuracy of the network on the 10000 test images: 64 %\n",
      "[6,  2000] loss: 0.893\n",
      "Accuracy of the network on the 10000 test images: 65 %\n",
      "[7,  1000] loss: 0.786\n",
      "Accuracy of the network on the 10000 test images: 67 %\n",
      "[7,  2000] loss: 0.816\n",
      "Accuracy of the network on the 10000 test images: 66 %\n",
      "[8,  1000] loss: 0.708\n",
      "Accuracy of the network on the 10000 test images: 66 %\n",
      "[8,  2000] loss: 0.735\n",
      "Accuracy of the network on the 10000 test images: 67 %\n",
      "[9,  1000] loss: 0.644\n",
      "Accuracy of the network on the 10000 test images: 68 %\n",
      "[9,  2000] loss: 0.655\n",
      "Accuracy of the network on the 10000 test images: 69 %\n",
      "[10,  1000] loss: 0.571\n",
      "Accuracy of the network on the 10000 test images: 68 %\n",
      "[10,  2000] loss: 0.585\n",
      "Accuracy of the network on the 10000 test images: 68 %\n",
      "[11,  1000] loss: 0.491\n",
      "Accuracy of the network on the 10000 test images: 68 %\n",
      "[11,  2000] loss: 0.530\n",
      "Accuracy of the network on the 10000 test images: 69 %\n",
      "[12,  1000] loss: 0.414\n",
      "Accuracy of the network on the 10000 test images: 69 %\n",
      "[12,  2000] loss: 0.477\n",
      "Accuracy of the network on the 10000 test images: 67 %\n",
      "[13,  1000] loss: 0.366\n",
      "Accuracy of the network on the 10000 test images: 69 %\n",
      "[13,  2000] loss: 0.407\n",
      "Accuracy of the network on the 10000 test images: 67 %\n",
      "[14,  1000] loss: 0.304\n",
      "Accuracy of the network on the 10000 test images: 68 %\n",
      "[14,  2000] loss: 0.358\n",
      "Accuracy of the network on the 10000 test images: 67 %\n",
      "[15,  1000] loss: 0.252\n",
      "Accuracy of the network on the 10000 test images: 67 %\n",
      "[15,  2000] loss: 0.315\n",
      "Accuracy of the network on the 10000 test images: 68 %\n",
      "[16,  1000] loss: 0.208\n",
      "Accuracy of the network on the 10000 test images: 68 %\n",
      "[16,  2000] loss: 0.263\n",
      "Accuracy of the network on the 10000 test images: 67 %\n",
      "[17,  1000] loss: 0.180\n",
      "Accuracy of the network on the 10000 test images: 67 %\n",
      "[17,  2000] loss: 0.215\n",
      "Accuracy of the network on the 10000 test images: 67 %\n",
      "[18,  1000] loss: 0.159\n",
      "Accuracy of the network on the 10000 test images: 68 %\n",
      "[18,  2000] loss: 0.185\n",
      "Accuracy of the network on the 10000 test images: 67 %\n",
      "[19,  1000] loss: 0.127\n",
      "Accuracy of the network on the 10000 test images: 68 %\n",
      "[19,  2000] loss: 0.172\n",
      "Accuracy of the network on the 10000 test images: 68 %\n",
      "[20,  1000] loss: 0.107\n",
      "Accuracy of the network on the 10000 test images: 68 %\n",
      "[20,  2000] loss: 0.145\n",
      "Accuracy of the network on the 10000 test images: 68 %\n",
      "[21,  1000] loss: 0.104\n",
      "Accuracy of the network on the 10000 test images: 68 %\n",
      "[21,  2000] loss: 0.131\n",
      "Accuracy of the network on the 10000 test images: 67 %\n",
      "[22,  1000] loss: 0.097\n",
      "Accuracy of the network on the 10000 test images: 67 %\n",
      "[22,  2000] loss: 0.130\n",
      "Accuracy of the network on the 10000 test images: 68 %\n",
      "[23,  1000] loss: 0.071\n",
      "Accuracy of the network on the 10000 test images: 68 %\n",
      "[23,  2000] loss: 0.105\n",
      "Accuracy of the network on the 10000 test images: 67 %\n",
      "[24,  1000] loss: 0.066\n",
      "Accuracy of the network on the 10000 test images: 67 %\n",
      "[24,  2000] loss: 0.093\n",
      "Accuracy of the network on the 10000 test images: 67 %\n",
      "[25,  1000] loss: 0.068\n",
      "Accuracy of the network on the 10000 test images: 68 %\n",
      "[25,  2000] loss: 0.084\n",
      "Accuracy of the network on the 10000 test images: 66 %\n",
      "[26,  1000] loss: 0.066\n",
      "Accuracy of the network on the 10000 test images: 67 %\n",
      "[26,  2000] loss: 0.093\n",
      "Accuracy of the network on the 10000 test images: 67 %\n",
      "[27,  1000] loss: 0.053\n",
      "Accuracy of the network on the 10000 test images: 68 %\n",
      "[27,  2000] loss: 0.089\n",
      "Accuracy of the network on the 10000 test images: 67 %\n",
      "[28,  1000] loss: 0.045\n",
      "Accuracy of the network on the 10000 test images: 67 %\n",
      "[28,  2000] loss: 0.064\n",
      "Accuracy of the network on the 10000 test images: 68 %\n",
      "[29,  1000] loss: 0.050\n",
      "Accuracy of the network on the 10000 test images: 67 %\n",
      "[29,  2000] loss: 0.058\n",
      "Accuracy of the network on the 10000 test images: 67 %\n",
      "[30,  1000] loss: 0.058\n",
      "Accuracy of the network on the 10000 test images: 67 %\n",
      "[30,  2000] loss: 0.059\n",
      "Accuracy of the network on the 10000 test images: 68 %\n",
      "Finished Training\n"
     ]
    }
   ],
   "source": [
    "acc_val = []\n",
    "loss_train = []\n",
    "for epoch in range(30):  # loop over the dataset multiple times\n",
    "\n",
    "    running_loss = 0.0\n",
    "    for i, data in enumerate(trainloader, 0):\n",
    "        # get the inputs; data is a list of [inputs, labels]\n",
    "        inputs, labels = data\n",
    "\n",
    "        # zero the parameter gradients\n",
    "        optimizer.zero_grad()\n",
    "\n",
    "        # forward + backward + optimize\n",
    "        outputs = cnn(inputs)\n",
    "        loss = criterion(outputs, labels)\n",
    "        loss.backward()\n",
    "        optimizer.step()\n",
    "\n",
    "        # print statistics\n",
    "        running_loss += loss.item()\n",
    "        rep = 1000\n",
    "        if i % rep == 999:    # print every 2000 mini-batches\n",
    "            loss_train.append(running_loss/rep)\n",
    "            print('[%d, %5d] loss: %.3f' %\n",
    "                  (epoch + 1, i + 1, running_loss / rep))\n",
    "            running_loss = 0.0\n",
    "            correct = 0\n",
    "            total = 0\n",
    "            # since we're not training, we don't need to calculate the gradients for our outputs\n",
    "            with torch.no_grad():\n",
    "                for data in testloader:\n",
    "                    images, labels = data\n",
    "                    # calculate outputs by running images through the network\n",
    "                    outputs = cnn(images)\n",
    "                    # the class with the highest energy is what we choose as prediction\n",
    "                    _, predicted = torch.max(outputs.data, 1)\n",
    "                    total += labels.size(0)\n",
    "                    correct += (predicted == labels).sum().item()\n",
    "\n",
    "            print('Accuracy of the network on the 10000 test images: %d %%' % (\n",
    "                100 * correct / total))\n",
    "            acc_val.append(correct / total)\n",
    "            \n",
    "\n",
    "print('Finished Training')"
   ]
  },
  {
   "cell_type": "code",
   "execution_count": 8,
   "metadata": {},
   "outputs": [
    {
     "data": {
      "text/plain": [
       "[<matplotlib.lines.Line2D at 0x23a1eb1788>]"
      ]
     },
     "execution_count": 8,
     "metadata": {},
     "output_type": "execute_result"
    },
    {
     "data": {
      "image/png": "[encoded data removed]",
      "text/plain": [
       "<Figure size 432x288 with 2 Axes>"
      ]
     },
     "metadata": {
      "needs_background": "light"
     },
     "output_type": "display_data"
    }
   ],
   "source": [
    "fig,ax = plt.subplots(1,2)\n",
    "ax[0].plot(range(len(acc_val)),acc_val)\n",
    "ax[1].plot(range(len(loss_train)),loss_train)"
   ]
  },
  {
   "cell_type": "markdown",
   "metadata": {},
   "source": [
    "##### Adam"
   ]
  },
  {
   "cell_type": "code",
   "execution_count": 9,
   "metadata": {},
   "outputs": [
    {
     "name": "stdout",
     "output_type": "stream",
     "text": [
      "-----------------------------------------------------------------------\n",
      "      Layer (type)         Input Shape         Param #     Tr. Param #\n",
      "=======================================================================\n",
      "          Conv2d-1      [1, 3, 32, 32]           2,432           2,432\n",
      "       MaxPool2d-2     [1, 32, 28, 28]               0               0\n",
      "          Conv2d-3     [1, 32, 14, 14]          51,264          51,264\n",
      "       MaxPool2d-4     [1, 64, 10, 10]               0               0\n",
      "         Flatten-5       [1, 64, 5, 5]               0               0\n",
      "          Linear-6           [1, 1600]         499,512         499,512\n",
      "            ReLU-7            [1, 312]               0               0\n",
      "          Linear-8            [1, 312]          26,292          26,292\n",
      "            ReLU-9             [1, 84]               0               0\n",
      "         Linear-10             [1, 84]             850             850\n",
      "=======================================================================\n",
      "Total params: 580,350\n",
      "Trainable params: 580,350\n",
      "Non-trainable params: 0\n",
      "-----------------------------------------------------------------------\n"
     ]
    }
   ],
   "source": [
    "print(summary(CNN(), torch.zeros((1, 3, 32, 32)), show_input=True))\n",
    "\n",
    "criterion = nn.CrossEntropyLoss()\n",
    "optimizer = optim.Adam(cnn.parameters(), lr=0.001)"
   ]
  },
  {
   "cell_type": "code",
   "execution_count": 10,
   "metadata": {},
   "outputs": [
    {
     "name": "stdout",
     "output_type": "stream",
     "text": [
      "[1,  1000] loss: 0.945\n",
      "Accuracy of the network on the 10000 test images: 59 %\n",
      "[1,  2000] loss: 0.946\n",
      "Accuracy of the network on the 10000 test images: 62 %\n",
      "[2,  1000] loss: 0.777\n",
      "Accuracy of the network on the 10000 test images: 63 %\n",
      "[2,  2000] loss: 0.852\n",
      "Accuracy of the network on the 10000 test images: 66 %\n",
      "[3,  1000] loss: 0.685\n",
      "Accuracy of the network on the 10000 test images: 66 %\n",
      "[3,  2000] loss: 0.751\n",
      "Accuracy of the network on the 10000 test images: 67 %\n",
      "[4,  1000] loss: 0.578\n",
      "Accuracy of the network on the 10000 test images: 66 %\n",
      "[4,  2000] loss: 0.659\n",
      "Accuracy of the network on the 10000 test images: 67 %\n",
      "[5,  1000] loss: 0.498\n",
      "Accuracy of the network on the 10000 test images: 66 %\n",
      "[5,  2000] loss: 0.571\n",
      "Accuracy of the network on the 10000 test images: 67 %\n",
      "[6,  1000] loss: 0.418\n",
      "Accuracy of the network on the 10000 test images: 68 %\n",
      "[6,  2000] loss: 0.491\n",
      "Accuracy of the network on the 10000 test images: 66 %\n",
      "[7,  1000] loss: 0.367\n",
      "Accuracy of the network on the 10000 test images: 66 %\n",
      "[7,  2000] loss: 0.422\n",
      "Accuracy of the network on the 10000 test images: 67 %\n",
      "[8,  1000] loss: 0.312\n",
      "Accuracy of the network on the 10000 test images: 67 %\n",
      "[8,  2000] loss: 0.383\n",
      "Accuracy of the network on the 10000 test images: 66 %\n",
      "[9,  1000] loss: 0.269\n",
      "Accuracy of the network on the 10000 test images: 67 %\n",
      "[9,  2000] loss: 0.344\n",
      "Accuracy of the network on the 10000 test images: 66 %\n",
      "[10,  1000] loss: 0.246\n",
      "Accuracy of the network on the 10000 test images: 66 %\n",
      "[10,  2000] loss: 0.313\n",
      "Accuracy of the network on the 10000 test images: 66 %\n",
      "[11,  1000] loss: 0.220\n",
      "Accuracy of the network on the 10000 test images: 66 %\n",
      "[11,  2000] loss: 0.303\n",
      "Accuracy of the network on the 10000 test images: 65 %\n",
      "[12,  1000] loss: 0.214\n",
      "Accuracy of the network on the 10000 test images: 66 %\n",
      "[12,  2000] loss: 0.281\n",
      "Accuracy of the network on the 10000 test images: 66 %\n",
      "[13,  1000] loss: 0.198\n",
      "Accuracy of the network on the 10000 test images: 67 %\n",
      "[13,  2000] loss: 0.244\n",
      "Accuracy of the network on the 10000 test images: 67 %\n",
      "[14,  1000] loss: 0.203\n",
      "Accuracy of the network on the 10000 test images: 67 %\n",
      "[14,  2000] loss: 0.239\n",
      "Accuracy of the network on the 10000 test images: 65 %\n",
      "[15,  1000] loss: 0.184\n",
      "Accuracy of the network on the 10000 test images: 66 %\n",
      "[15,  2000] loss: 0.232\n",
      "Accuracy of the network on the 10000 test images: 65 %\n",
      "[16,  1000] loss: 0.176\n",
      "Accuracy of the network on the 10000 test images: 66 %\n",
      "[16,  2000] loss: 0.232\n",
      "Accuracy of the network on the 10000 test images: 67 %\n",
      "[17,  1000] loss: 0.169\n",
      "Accuracy of the network on the 10000 test images: 65 %\n",
      "[17,  2000] loss: 0.221\n",
      "Accuracy of the network on the 10000 test images: 66 %\n",
      "[18,  1000] loss: 0.175\n",
      "Accuracy of the network on the 10000 test images: 66 %\n",
      "[18,  2000] loss: 0.212\n",
      "Accuracy of the network on the 10000 test images: 66 %\n",
      "[19,  1000] loss: 0.158\n",
      "Accuracy of the network on the 10000 test images: 65 %\n",
      "[19,  2000] loss: 0.193\n",
      "Accuracy of the network on the 10000 test images: 66 %\n",
      "[20,  1000] loss: 0.149\n",
      "Accuracy of the network on the 10000 test images: 65 %\n",
      "[20,  2000] loss: 0.195\n",
      "Accuracy of the network on the 10000 test images: 64 %\n",
      "[21,  1000] loss: 0.139\n",
      "Accuracy of the network on the 10000 test images: 64 %\n",
      "[21,  2000] loss: 0.210\n",
      "Accuracy of the network on the 10000 test images: 65 %\n",
      "[22,  1000] loss: 0.155\n",
      "Accuracy of the network on the 10000 test images: 65 %\n",
      "[22,  2000] loss: 0.175\n",
      "Accuracy of the network on the 10000 test images: 65 %\n",
      "[23,  1000] loss: 0.150\n",
      "Accuracy of the network on the 10000 test images: 66 %\n",
      "[23,  2000] loss: 0.181\n",
      "Accuracy of the network on the 10000 test images: 65 %\n",
      "[24,  1000] loss: 0.127\n",
      "Accuracy of the network on the 10000 test images: 66 %\n",
      "[24,  2000] loss: 0.176\n",
      "Accuracy of the network on the 10000 test images: 66 %\n",
      "[25,  1000] loss: 0.148\n",
      "Accuracy of the network on the 10000 test images: 65 %\n",
      "[25,  2000] loss: 0.178\n",
      "Accuracy of the network on the 10000 test images: 65 %\n",
      "[26,  1000] loss: 0.133\n",
      "Accuracy of the network on the 10000 test images: 66 %\n",
      "[26,  2000] loss: 0.180\n",
      "Accuracy of the network on the 10000 test images: 65 %\n",
      "[27,  1000] loss: 0.117\n",
      "Accuracy of the network on the 10000 test images: 65 %\n",
      "[27,  2000] loss: 0.176\n",
      "Accuracy of the network on the 10000 test images: 66 %\n",
      "[28,  1000] loss: 0.139\n",
      "Accuracy of the network on the 10000 test images: 65 %\n",
      "[28,  2000] loss: 0.165\n",
      "Accuracy of the network on the 10000 test images: 64 %\n",
      "[29,  1000] loss: 0.129\n",
      "Accuracy of the network on the 10000 test images: 66 %\n",
      "[29,  2000] loss: 0.173\n",
      "Accuracy of the network on the 10000 test images: 66 %\n",
      "[30,  1000] loss: 0.128\n",
      "Accuracy of the network on the 10000 test images: 65 %\n",
      "[30,  2000] loss: 0.175\n",
      "Accuracy of the network on the 10000 test images: 66 %\n",
      "Finished Training\n"
     ]
    }
   ],
   "source": [
    "acc_val = []\n",
    "loss_train = []\n",
    "for epoch in range(30):  # loop over the dataset multiple times\n",
    "\n",
    "    running_loss = 0.0\n",
    "    for i, data in enumerate(trainloader, 0):\n",
    "        # get the inputs; data is a list of [inputs, labels]\n",
    "        inputs, labels = data\n",
    "\n",
    "        # zero the parameter gradients\n",
    "        optimizer.zero_grad()\n",
    "\n",
    "        # forward + backward + optimize\n",
    "        outputs = cnn(inputs)\n",
    "        loss = criterion(outputs, labels)\n",
    "        loss.backward()\n",
    "        optimizer.step()\n",
    "\n",
    "        # print statistics\n",
    "        running_loss += loss.item()\n",
    "        rep = 1000\n",
    "        if i % rep == 999:    # print every 2000 mini-batches\n",
    "            loss_train.append(running_loss/rep)\n",
    "            print('[%d, %5d] loss: %.3f' %\n",
    "                  (epoch + 1, i + 1, running_loss / rep))\n",
    "            running_loss = 0.0\n",
    "            correct = 0\n",
    "            total = 0\n",
    "            # since we're not training, we don't need to calculate the gradients for our outputs\n",
    "            with torch.no_grad():\n",
    "                for data in testloader:\n",
    "                    images, labels = data\n",
    "                    # calculate outputs by running images through the network\n",
    "                    outputs = cnn(images)\n",
    "                    # the class with the highest energy is what we choose as prediction\n",
    "                    _, predicted = torch.max(outputs.data, 1)\n",
    "                    total += labels.size(0)\n",
    "                    correct += (predicted == labels).sum().item()\n",
    "\n",
    "            print('Accuracy of the network on the 10000 test images: %d %%' % (\n",
    "                100 * correct / total))\n",
    "            acc_val.append(correct / total)\n",
    "\n",
    "print('Finished Training')"
   ]
  },
  {
   "cell_type": "code",
   "execution_count": 11,
   "metadata": {},
   "outputs": [
    {
     "data": {
      "text/plain": [
       "[<matplotlib.lines.Line2D at 0x23aac31108>]"
      ]
     },
     "execution_count": 11,
     "metadata": {},
     "output_type": "execute_result"
    },
    {
     "data": {
      "image/png": "[encoded data removed]",
      "text/plain": [
       "<Figure size 432x288 with 2 Axes>"
      ]
     },
     "metadata": {
      "needs_background": "light"
     },
     "output_type": "display_data"
    }
   ],
   "source": [
    "fig,ax = plt.subplots(1,2)\n",
    "ax[0].plot(range(len(acc_val)),acc_val)\n",
    "ax[1].plot(range(len(loss_train)),loss_train)"
   ]
  },
  {
   "cell_type": "markdown",
   "metadata": {},
   "source": [
    "#### Combine SGD output and adam hidden"
   ]
  },
  {
   "cell_type": "code",
   "execution_count": 12,
   "metadata": {},
   "outputs": [
    {
     "name": "stdout",
     "output_type": "stream",
     "text": [
      "-----------------------------------------------------------------------\n",
      "      Layer (type)         Input Shape         Param #     Tr. Param #\n",
      "=======================================================================\n",
      "          Conv2d-1      [1, 3, 32, 32]           2,432           2,432\n",
      "       MaxPool2d-2     [1, 32, 28, 28]               0               0\n",
      "          Conv2d-3     [1, 32, 14, 14]          51,264          51,264\n",
      "       MaxPool2d-4     [1, 64, 10, 10]               0               0\n",
      "         Flatten-5       [1, 64, 5, 5]               0               0\n",
      "          Linear-6           [1, 1600]         499,512         499,512\n",
      "            ReLU-7            [1, 312]               0               0\n",
      "          Linear-8            [1, 312]          26,292          26,292\n",
      "            ReLU-9             [1, 84]               0               0\n",
      "         Linear-10             [1, 84]             850             850\n",
      "=======================================================================\n",
      "Total params: 580,350\n",
      "Trainable params: 580,350\n",
      "Non-trainable params: 0\n",
      "-----------------------------------------------------------------------\n"
     ]
    }
   ],
   "source": [
    "cnn = CNN()\n",
    "print(summary(CNN(), torch.zeros((1, 3, 32, 32)), show_input=True))\n",
    "\n",
    "criterion = nn.CrossEntropyLoss()\n",
    "optimizer = optim.SGD(cnn.fc3.parameters(), lr=0.001, momentum=0.9)\n",
    "optimizer_hidden = optim.Adam(cnn.base.parameters(), lr=0.001)"
   ]
  },
  {
   "cell_type": "code",
   "execution_count": 13,
   "metadata": {},
   "outputs": [
    {
     "name": "stdout",
     "output_type": "stream",
     "text": [
      "[1,  1000] loss: 1.582\n",
      "Accuracy of the network on the 10000 test images: 48 %\n",
      "[1,  2000] loss: 1.301\n",
      "Accuracy of the network on the 10000 test images: 57 %\n",
      "[2,  1000] loss: 1.067\n",
      "Accuracy of the network on the 10000 test images: 59 %\n",
      "[2,  2000] loss: 1.037\n",
      "Accuracy of the network on the 10000 test images: 63 %\n",
      "[3,  1000] loss: 0.864\n",
      "Accuracy of the network on the 10000 test images: 65 %\n",
      "[3,  2000] loss: 0.880\n",
      "Accuracy of the network on the 10000 test images: 65 %\n",
      "[4,  1000] loss: 0.722\n",
      "Accuracy of the network on the 10000 test images: 64 %\n",
      "[4,  2000] loss: 0.748\n",
      "Accuracy of the network on the 10000 test images: 65 %\n",
      "[5,  1000] loss: 0.600\n",
      "Accuracy of the network on the 10000 test images: 66 %\n",
      "[5,  2000] loss: 0.654\n",
      "Accuracy of the network on the 10000 test images: 67 %\n",
      "[6,  1000] loss: 0.502\n",
      "Accuracy of the network on the 10000 test images: 67 %\n",
      "[6,  2000] loss: 0.558\n",
      "Accuracy of the network on the 10000 test images: 67 %\n",
      "[7,  1000] loss: 0.428\n",
      "Accuracy of the network on the 10000 test images: 65 %\n",
      "[7,  2000] loss: 0.489\n",
      "Accuracy of the network on the 10000 test images: 67 %\n",
      "[8,  1000] loss: 0.375\n",
      "Accuracy of the network on the 10000 test images: 65 %\n",
      "[8,  2000] loss: 0.442\n",
      "Accuracy of the network on the 10000 test images: 66 %\n",
      "[9,  1000] loss: 0.327\n",
      "Accuracy of the network on the 10000 test images: 65 %\n",
      "[9,  2000] loss: 0.390\n",
      "Accuracy of the network on the 10000 test images: 67 %\n",
      "[10,  1000] loss: 0.292\n",
      "Accuracy of the network on the 10000 test images: 66 %\n",
      "[10,  2000] loss: 0.371\n",
      "Accuracy of the network on the 10000 test images: 65 %\n",
      "[11,  1000] loss: 0.272\n",
      "Accuracy of the network on the 10000 test images: 66 %\n",
      "[11,  2000] loss: 0.355\n",
      "Accuracy of the network on the 10000 test images: 67 %\n",
      "[12,  1000] loss: 0.246\n",
      "Accuracy of the network on the 10000 test images: 66 %\n",
      "[12,  2000] loss: 0.321\n",
      "Accuracy of the network on the 10000 test images: 65 %\n",
      "[13,  1000] loss: 0.251\n",
      "Accuracy of the network on the 10000 test images: 66 %\n",
      "[13,  2000] loss: 0.328\n",
      "Accuracy of the network on the 10000 test images: 65 %\n",
      "[14,  1000] loss: 0.214\n",
      "Accuracy of the network on the 10000 test images: 66 %\n",
      "[14,  2000] loss: 0.292\n",
      "Accuracy of the network on the 10000 test images: 66 %\n",
      "[15,  1000] loss: 0.248\n",
      "Accuracy of the network on the 10000 test images: 66 %\n",
      "[15,  2000] loss: 0.292\n",
      "Accuracy of the network on the 10000 test images: 65 %\n",
      "[16,  1000] loss: 0.217\n",
      "Accuracy of the network on the 10000 test images: 65 %\n",
      "[16,  2000] loss: 0.276\n",
      "Accuracy of the network on the 10000 test images: 64 %\n",
      "[17,  1000] loss: 0.240\n",
      "Accuracy of the network on the 10000 test images: 65 %\n",
      "[17,  2000] loss: 0.263\n",
      "Accuracy of the network on the 10000 test images: 65 %\n",
      "[18,  1000] loss: 0.185\n",
      "Accuracy of the network on the 10000 test images: 64 %\n",
      "[18,  2000] loss: 0.270\n",
      "Accuracy of the network on the 10000 test images: 65 %\n",
      "[19,  1000] loss: 0.217\n",
      "Accuracy of the network on the 10000 test images: 66 %\n",
      "[19,  2000] loss: 0.269\n",
      "Accuracy of the network on the 10000 test images: 63 %\n",
      "[20,  1000] loss: 0.219\n",
      "Accuracy of the network on the 10000 test images: 67 %\n",
      "[20,  2000] loss: 0.259\n",
      "Accuracy of the network on the 10000 test images: 63 %\n",
      "[21,  1000] loss: 0.185\n",
      "Accuracy of the network on the 10000 test images: 63 %\n",
      "[21,  2000] loss: 0.238\n",
      "Accuracy of the network on the 10000 test images: 65 %\n",
      "[22,  1000] loss: 0.203\n",
      "Accuracy of the network on the 10000 test images: 63 %\n",
      "[22,  2000] loss: 0.244\n",
      "Accuracy of the network on the 10000 test images: 65 %\n",
      "[23,  1000] loss: 0.199\n",
      "Accuracy of the network on the 10000 test images: 63 %\n",
      "[23,  2000] loss: 0.238\n",
      "Accuracy of the network on the 10000 test images: 64 %\n",
      "[24,  1000] loss: 0.198\n",
      "Accuracy of the network on the 10000 test images: 64 %\n",
      "[24,  2000] loss: 0.249\n",
      "Accuracy of the network on the 10000 test images: 65 %\n",
      "[25,  1000] loss: 0.218\n",
      "Accuracy of the network on the 10000 test images: 63 %\n",
      "[25,  2000] loss: 0.252\n",
      "Accuracy of the network on the 10000 test images: 62 %\n",
      "[26,  1000] loss: 0.186\n",
      "Accuracy of the network on the 10000 test images: 66 %\n",
      "[26,  2000] loss: 0.258\n",
      "Accuracy of the network on the 10000 test images: 64 %\n",
      "[27,  1000] loss: 0.195\n",
      "Accuracy of the network on the 10000 test images: 64 %\n",
      "[27,  2000] loss: 0.271\n",
      "Accuracy of the network on the 10000 test images: 64 %\n",
      "[28,  1000] loss: 0.186\n",
      "Accuracy of the network on the 10000 test images: 64 %\n",
      "[28,  2000] loss: 0.235\n",
      "Accuracy of the network on the 10000 test images: 65 %\n",
      "[29,  1000] loss: 0.188\n",
      "Accuracy of the network on the 10000 test images: 64 %\n",
      "[29,  2000] loss: 0.243\n",
      "Accuracy of the network on the 10000 test images: 64 %\n",
      "[30,  1000] loss: 0.202\n",
      "Accuracy of the network on the 10000 test images: 64 %\n",
      "[30,  2000] loss: 0.210\n",
      "Accuracy of the network on the 10000 test images: 66 %\n",
      "Finished Training\n"
     ]
    }
   ],
   "source": [
    "acc_val = []\n",
    "loss_train = []\n",
    "for epoch in range(30):  # loop over the dataset multiple times\n",
    "\n",
    "    running_loss = 0.0\n",
    "    for i, data in enumerate(trainloader, 0):\n",
    "        # get the inputs; data is a list of [inputs, labels]\n",
    "        inputs, labels = data\n",
    "\n",
    "        # zero the parameter gradients\n",
    "        optimizer.zero_grad()\n",
    "        optimizer_hidden.zero_grad()\n",
    "\n",
    "        # forward + backward + optimize\n",
    "        outputs = cnn(inputs)\n",
    "        loss = criterion(outputs, labels)\n",
    "        loss.backward()\n",
    "        optimizer.step()\n",
    "        optimizer_hidden.step()\n",
    "\n",
    "        # print statistics\n",
    "        running_loss += loss.item()\n",
    "        rep = 1000\n",
    "        if i % rep == 999:    # print every 2000 mini-batches\n",
    "            loss_train.append(running_loss/rep)\n",
    "            print('[%d, %5d] loss: %.3f' %\n",
    "                  (epoch + 1, i + 1, running_loss / rep))\n",
    "            running_loss = 0.0\n",
    "            correct = 0\n",
    "            total = 0\n",
    "            # since we're not training, we don't need to calculate the gradients for our outputs\n",
    "            with torch.no_grad():\n",
    "                for data in testloader:\n",
    "                    images, labels = data\n",
    "                    # calculate outputs by running images through the network\n",
    "                    outputs = cnn(images)\n",
    "                    # the class with the highest energy is what we choose as prediction\n",
    "                    _, predicted = torch.max(outputs.data, 1)\n",
    "                    total += labels.size(0)\n",
    "                    correct += (predicted == labels).sum().item()\n",
    "\n",
    "            print('Accuracy of the network on the 10000 test images: %d %%' % (\n",
    "                100 * correct / total))\n",
    "            acc_val.append(correct / total)\n",
    "            \n",
    "\n",
    "print('Finished Training')"
   ]
  },
  {
   "cell_type": "code",
   "execution_count": 14,
   "metadata": {},
   "outputs": [
    {
     "data": {
      "text/plain": [
       "[<matplotlib.lines.Line2D at 0x23a8e565c8>]"
      ]
     },
     "execution_count": 14,
     "metadata": {},
     "output_type": "execute_result"
    },
    {
     "data": {
      "image/png": "[encoded data removed]",
      "text/plain": [
       "<Figure size 432x288 with 2 Axes>"
      ]
     },
     "metadata": {
      "needs_background": "light"
     },
     "output_type": "display_data"
    }
   ],
   "source": [
    "fig,ax = plt.subplots(1,2)\n",
    "ax[0].plot(range(len(acc_val)),acc_val)\n",
    "ax[1].plot(range(len(loss_train)),loss_train)"
   ]
  },
  {
   "cell_type": "markdown",
   "metadata": {},
   "source": [
    "#### Combine adam output and SGD hidden"
   ]
  },
  {
   "cell_type": "code",
   "execution_count": 15,
   "metadata": {},
   "outputs": [
    {
     "name": "stdout",
     "output_type": "stream",
     "text": [
      "-----------------------------------------------------------------------\n",
      "      Layer (type)         Input Shape         Param #     Tr. Param #\n",
      "=======================================================================\n",
      "          Conv2d-1      [1, 3, 32, 32]           2,432           2,432\n",
      "       MaxPool2d-2     [1, 32, 28, 28]               0               0\n",
      "          Conv2d-3     [1, 32, 14, 14]          51,264          51,264\n",
      "       MaxPool2d-4     [1, 64, 10, 10]               0               0\n",
      "         Flatten-5       [1, 64, 5, 5]               0               0\n",
      "          Linear-6           [1, 1600]         499,512         499,512\n",
      "            ReLU-7            [1, 312]               0               0\n",
      "          Linear-8            [1, 312]          26,292          26,292\n",
      "            ReLU-9             [1, 84]               0               0\n",
      "         Linear-10             [1, 84]             850             850\n",
      "=======================================================================\n",
      "Total params: 580,350\n",
      "Trainable params: 580,350\n",
      "Non-trainable params: 0\n",
      "-----------------------------------------------------------------------\n"
     ]
    }
   ],
   "source": [
    "cnn = CNN()\n",
    "print(summary(CNN(), torch.zeros((1, 3, 32, 32)), show_input=True))\n",
    "\n",
    "criterion = nn.CrossEntropyLoss()\n",
    "optimizer = optim.Adam(cnn.base.parameters(), lr=0.001)\n",
    "optimizer_hidden = optim.SGD(cnn.fc3.parameters(), lr=0.001, momentum=0.9)"
   ]
  },
  {
   "cell_type": "code",
   "execution_count": 16,
   "metadata": {},
   "outputs": [
    {
     "name": "stdout",
     "output_type": "stream",
     "text": [
      "[1,  1000] loss: 1.596\n",
      "Accuracy of the network on the 10000 test images: 48 %\n",
      "[1,  2000] loss: 1.300\n",
      "Accuracy of the network on the 10000 test images: 57 %\n",
      "[2,  1000] loss: 1.070\n",
      "Accuracy of the network on the 10000 test images: 60 %\n",
      "[2,  2000] loss: 1.040\n",
      "Accuracy of the network on the 10000 test images: 64 %\n",
      "[3,  1000] loss: 0.857\n",
      "Accuracy of the network on the 10000 test images: 65 %\n",
      "[3,  2000] loss: 0.890\n",
      "Accuracy of the network on the 10000 test images: 66 %\n",
      "[4,  1000] loss: 0.725\n",
      "Accuracy of the network on the 10000 test images: 66 %\n",
      "[4,  2000] loss: 0.763\n",
      "Accuracy of the network on the 10000 test images: 67 %\n",
      "[5,  1000] loss: 0.623\n",
      "Accuracy of the network on the 10000 test images: 67 %\n",
      "[5,  2000] loss: 0.648\n",
      "Accuracy of the network on the 10000 test images: 68 %\n",
      "[6,  1000] loss: 0.520\n",
      "Accuracy of the network on the 10000 test images: 67 %\n",
      "[6,  2000] loss: 0.573\n",
      "Accuracy of the network on the 10000 test images: 66 %\n",
      "[7,  1000] loss: 0.443\n",
      "Accuracy of the network on the 10000 test images: 66 %\n",
      "[7,  2000] loss: 0.508\n",
      "Accuracy of the network on the 10000 test images: 66 %\n",
      "[8,  1000] loss: 0.389\n",
      "Accuracy of the network on the 10000 test images: 65 %\n",
      "[8,  2000] loss: 0.450\n",
      "Accuracy of the network on the 10000 test images: 67 %\n",
      "[9,  1000] loss: 0.357\n",
      "Accuracy of the network on the 10000 test images: 66 %\n",
      "[9,  2000] loss: 0.411\n",
      "Accuracy of the network on the 10000 test images: 66 %\n",
      "[10,  1000] loss: 0.325\n",
      "Accuracy of the network on the 10000 test images: 67 %\n",
      "[10,  2000] loss: 0.376\n",
      "Accuracy of the network on the 10000 test images: 66 %\n",
      "Finished Training\n"
     ]
    }
   ],
   "source": [
    "acc_val = []\n",
    "loss_train = []\n",
    "for epoch in range(10):  # loop over the dataset multiple times\n",
    "\n",
    "    running_loss = 0.0\n",
    "    for i, data in enumerate(trainloader, 0):\n",
    "        # get the inputs; data is a list of [inputs, labels]\n",
    "        inputs, labels = data\n",
    "\n",
    "        # zero the parameter gradients\n",
    "        optimizer.zero_grad()\n",
    "        optimizer_hidden.zero_grad()\n",
    "\n",
    "        # forward + backward + optimize\n",
    "        outputs = cnn(inputs)\n",
    "        loss = criterion(outputs, labels)\n",
    "        loss.backward()\n",
    "        optimizer.step()\n",
    "        optimizer_hidden.step()\n",
    "\n",
    "        # print statistics\n",
    "        running_loss += loss.item()\n",
    "        rep = 1000\n",
    "        if i % rep == 999:    # print every 2000 mini-batches\n",
    "            loss_train.append(running_loss/rep)\n",
    "            print('[%d, %5d] loss: %.3f' %\n",
    "                  (epoch + 1, i + 1, running_loss / rep))\n",
    "            running_loss = 0.0\n",
    "            correct = 0\n",
    "            total = 0\n",
    "            # since we're not training, we don't need to calculate the gradients for our outputs\n",
    "            with torch.no_grad():\n",
    "                for data in testloader:\n",
    "                    images, labels = data\n",
    "                    # calculate outputs by running images through the network\n",
    "                    outputs = cnn(images)\n",
    "                    # the class with the highest energy is what we choose as prediction\n",
    "                    _, predicted = torch.max(outputs.data, 1)\n",
    "                    total += labels.size(0)\n",
    "                    correct += (predicted == labels).sum().item()\n",
    "\n",
    "            print('Accuracy of the network on the 10000 test images: %d %%' % (\n",
    "                100 * correct / total))\n",
    "            acc_val.append(correct / total)\n",
    "            \n",
    "\n",
    "print('Finished Training')"
   ]
  },
  {
   "cell_type": "code",
   "execution_count": 17,
   "metadata": {},
   "outputs": [
    {
     "data": {
      "text/plain": [
       "[<matplotlib.lines.Line2D at 0x23a9530c08>]"
      ]
     },
     "execution_count": 17,
     "metadata": {},
     "output_type": "execute_result"
    },
    {
     "data": {
      "image/png": "[encoded data removed]",
      "text/plain": [
       "<Figure size 432x288 with 2 Axes>"
      ]
     },
     "metadata": {
      "needs_background": "light"
     },
     "output_type": "display_data"
    }
   ],
   "source": [
    "fig,ax = plt.subplots(1,2)\n",
    "ax[0].plot(range(len(acc_val)),acc_val)\n",
    "ax[1].plot(range(len(loss_train)),loss_train)"
   ]
  },
  {
   "cell_type": "code",
   "execution_count": null,
   "metadata": {},
   "outputs": [],
   "source": []
  },
  {
   "cell_type": "code",
   "execution_count": null,
   "metadata": {},
   "outputs": [],
   "source": []
  },
  {
   "cell_type": "code",
   "execution_count": null,
   "metadata": {},
   "outputs": [],
   "source": []
  }
 ],
 "metadata": {
  "kernelspec": {
   "display_name": "Python 3",
   "language": "python",
   "name": "python3"
  },
  "language_info": {
   "codemirror_mode": {
    "name": "ipython",
    "version": 3
   },
   "file_extension": ".py",
   "mimetype": "text/x-python",
   "name": "python",
   "nbconvert_exporter": "python",
   "pygments_lexer": "ipython3",
   "version": "3.7.4"
  }
 },
 "nbformat": 4,
 "nbformat_minor": 4
}
